{
  "nbformat": 4,
  "nbformat_minor": 0,
  "metadata": {
    "colab": {
      "name": "Copy of Artificial Neural Network",
      "provenance": [],
      "collapsed_sections": [],
      "toc_visible": true,
      "include_colab_link": true
    },
    "kernelspec": {
      "name": "python3",
      "display_name": "Python 3"
    }
  },
  "cells": [
    {
      "cell_type": "markdown",
      "metadata": {
        "id": "view-in-github",
        "colab_type": "text"
      },
      "source": [
        "<a href=\"https://colab.research.google.com/github/melaniesandra/melaniesandra.github.io/blob/master/Copy_of_Artificial_Neural_Network.ipynb\" target=\"_parent\"><img src=\"https://colab.research.google.com/assets/colab-badge.svg\" alt=\"Open In Colab\"/></a>"
      ]
    },
    {
      "cell_type": "markdown",
      "metadata": {
        "id": "3cbb7fRy-eyr",
        "colab_type": "text"
      },
      "source": [
        "# Artificial Neural Network"
      ]
    },
    {
      "cell_type": "markdown",
      "metadata": {
        "id": "8sNDnxE2-pwE",
        "colab_type": "text"
      },
      "source": [
        "### Importing the libraries"
      ]
    },
    {
      "cell_type": "code",
      "metadata": {
        "id": "lxChR1Rk-umf",
        "colab_type": "code",
        "colab": {}
      },
      "source": [
        "import numpy as np\n",
        "import pandas as pd\n",
        "import tensorflow as tf"
      ],
      "execution_count": 0,
      "outputs": []
    },
    {
      "cell_type": "code",
      "metadata": {
        "id": "uBTqR3nacj0e",
        "colab_type": "code",
        "outputId": "66c680aa-5834-40b2-982b-ddc8d978068c",
        "colab": {
          "base_uri": "https://localhost:8080/",
          "height": 34
        }
      },
      "source": [
        "tf.__version__"
      ],
      "execution_count": 3,
      "outputs": [
        {
          "output_type": "execute_result",
          "data": {
            "text/plain": [
              "'2.2.0'"
            ]
          },
          "metadata": {
            "tags": []
          },
          "execution_count": 3
        }
      ]
    },
    {
      "cell_type": "markdown",
      "metadata": {
        "id": "AG3FQEch-yuA",
        "colab_type": "text"
      },
      "source": [
        "## Part 1 - Data Preprocessing"
      ]
    },
    {
      "cell_type": "markdown",
      "metadata": {
        "id": "-4zq8Mza_D9O",
        "colab_type": "text"
      },
      "source": [
        "### Importing the dataset"
      ]
    },
    {
      "cell_type": "code",
      "metadata": {
        "id": "B9CV13Co_HHM",
        "colab_type": "code",
        "colab": {}
      },
      "source": [
        "dataset = pd.read_excel('energy_analysis.xlsx')\n",
        "X = dataset.iloc[:, :-2].values\n",
        "y = dataset.iloc[:, -2:].values"
      ],
      "execution_count": 0,
      "outputs": []
    },
    {
      "cell_type": "markdown",
      "metadata": {
        "id": "VC6omXel_Up0",
        "colab_type": "text"
      },
      "source": [
        "### Splitting the dataset into the Training set and Test set"
      ]
    },
    {
      "cell_type": "code",
      "metadata": {
        "id": "L5edeb2r_agx",
        "colab_type": "code",
        "colab": {}
      },
      "source": [
        "from sklearn.model_selection import train_test_split\n",
        "X_train, X_test, y_train, y_test = train_test_split(X, y, test_size = 0.2, random_state = 0)"
      ],
      "execution_count": 0,
      "outputs": []
    },
    {
      "cell_type": "markdown",
      "metadata": {
        "id": "_mSLlAT9_eyI",
        "colab_type": "text"
      },
      "source": [
        "## Part 2 - Building the ANN"
      ]
    },
    {
      "cell_type": "markdown",
      "metadata": {
        "id": "CsBULd_f_wLY",
        "colab_type": "text"
      },
      "source": [
        "### Initializing the ANN"
      ]
    },
    {
      "cell_type": "code",
      "metadata": {
        "id": "J6Hd97Ls__Nz",
        "colab_type": "code",
        "colab": {}
      },
      "source": [
        "ann = tf.keras.models.Sequential()"
      ],
      "execution_count": 0,
      "outputs": []
    },
    {
      "cell_type": "markdown",
      "metadata": {
        "id": "iitAFJS_ABUn",
        "colab_type": "text"
      },
      "source": [
        "### Adding the input layer and the first hidden layer"
      ]
    },
    {
      "cell_type": "code",
      "metadata": {
        "id": "ksO_Vv40AHix",
        "colab_type": "code",
        "colab": {}
      },
      "source": [
        "ann.add(tf.keras.layers.Dense(units=6, activation='relu'))"
      ],
      "execution_count": 0,
      "outputs": []
    },
    {
      "cell_type": "markdown",
      "metadata": {
        "id": "-lb4kK_wAKbs",
        "colab_type": "text"
      },
      "source": [
        "### Adding the second hidden layer"
      ]
    },
    {
      "cell_type": "code",
      "metadata": {
        "id": "c2357OqEAQOQ",
        "colab_type": "code",
        "colab": {}
      },
      "source": [
        "ann.add(tf.keras.layers.Dense(units=6, activation='relu'))"
      ],
      "execution_count": 0,
      "outputs": []
    },
    {
      "cell_type": "markdown",
      "metadata": {
        "id": "jwMOmKb3AdBY",
        "colab_type": "text"
      },
      "source": [
        "### Adding the output layer"
      ]
    },
    {
      "cell_type": "code",
      "metadata": {
        "id": "YFATpzsUAkLL",
        "colab_type": "code",
        "colab": {}
      },
      "source": [
        "ann.add(tf.keras.layers.Dense(units=2))"
      ],
      "execution_count": 0,
      "outputs": []
    },
    {
      "cell_type": "markdown",
      "metadata": {
        "id": "fq7e4fF6A1yy",
        "colab_type": "text"
      },
      "source": [
        "## Part 3 - Training the ANN"
      ]
    },
    {
      "cell_type": "markdown",
      "metadata": {
        "id": "qDeylAs2An25",
        "colab_type": "text"
      },
      "source": [
        "### Compiling the ANN"
      ]
    },
    {
      "cell_type": "code",
      "metadata": {
        "id": "pesgbWlCAtB4",
        "colab_type": "code",
        "colab": {}
      },
      "source": [
        "ann.compile(optimizer = 'adam', loss = 'mean_squared_error')"
      ],
      "execution_count": 0,
      "outputs": []
    },
    {
      "cell_type": "markdown",
      "metadata": {
        "id": "YjVuiybYOo7r",
        "colab_type": "text"
      },
      "source": [
        "### Training the ANN model on the Training set"
      ]
    },
    {
      "cell_type": "code",
      "metadata": {
        "id": "c_vV-tiiA5zn",
        "colab_type": "code",
        "outputId": "cca2d02e-03fb-43e0-a6dd-d215b4cfd09b",
        "colab": {
          "base_uri": "https://localhost:8080/",
          "height": 1000
        }
      },
      "source": [
        "ann.fit(X_train, y_train, batch_size = 32, epochs = 100)"
      ],
      "execution_count": 11,
      "outputs": [
        {
          "output_type": "stream",
          "text": [
            "Epoch 1/100\n",
            "20/20 [==============================] - 0s 1ms/step - loss: 334.6654\n",
            "Epoch 2/100\n",
            "20/20 [==============================] - 0s 1ms/step - loss: 180.4636\n",
            "Epoch 3/100\n",
            "20/20 [==============================] - 0s 1ms/step - loss: 149.1558\n",
            "Epoch 4/100\n",
            "20/20 [==============================] - 0s 1ms/step - loss: 130.2711\n",
            "Epoch 5/100\n",
            "20/20 [==============================] - 0s 1ms/step - loss: 116.5473\n",
            "Epoch 6/100\n",
            "20/20 [==============================] - 0s 1ms/step - loss: 101.8724\n",
            "Epoch 7/100\n",
            "20/20 [==============================] - 0s 1ms/step - loss: 86.0214\n",
            "Epoch 8/100\n",
            "20/20 [==============================] - 0s 1ms/step - loss: 75.9410\n",
            "Epoch 9/100\n",
            "20/20 [==============================] - 0s 1ms/step - loss: 65.0825\n",
            "Epoch 10/100\n",
            "20/20 [==============================] - 0s 1ms/step - loss: 56.7882\n",
            "Epoch 11/100\n",
            "20/20 [==============================] - 0s 1ms/step - loss: 52.0192\n",
            "Epoch 12/100\n",
            "20/20 [==============================] - 0s 2ms/step - loss: 46.5009\n",
            "Epoch 13/100\n",
            "20/20 [==============================] - 0s 1ms/step - loss: 42.1093\n",
            "Epoch 14/100\n",
            "20/20 [==============================] - 0s 1ms/step - loss: 40.1204\n",
            "Epoch 15/100\n",
            "20/20 [==============================] - 0s 1ms/step - loss: 37.9009\n",
            "Epoch 16/100\n",
            "20/20 [==============================] - 0s 1ms/step - loss: 35.9776\n",
            "Epoch 17/100\n",
            "20/20 [==============================] - 0s 1ms/step - loss: 35.4671\n",
            "Epoch 18/100\n",
            "20/20 [==============================] - 0s 1ms/step - loss: 35.0969\n",
            "Epoch 19/100\n",
            "20/20 [==============================] - 0s 1ms/step - loss: 34.3191\n",
            "Epoch 20/100\n",
            "20/20 [==============================] - 0s 1ms/step - loss: 34.3481\n",
            "Epoch 21/100\n",
            "20/20 [==============================] - 0s 1ms/step - loss: 34.0606\n",
            "Epoch 22/100\n",
            "20/20 [==============================] - 0s 1ms/step - loss: 33.8648\n",
            "Epoch 23/100\n",
            "20/20 [==============================] - 0s 1ms/step - loss: 33.5978\n",
            "Epoch 24/100\n",
            "20/20 [==============================] - 0s 1ms/step - loss: 34.1087\n",
            "Epoch 25/100\n",
            "20/20 [==============================] - 0s 1ms/step - loss: 35.1438\n",
            "Epoch 26/100\n",
            "20/20 [==============================] - 0s 1ms/step - loss: 34.5572\n",
            "Epoch 27/100\n",
            "20/20 [==============================] - 0s 1ms/step - loss: 33.3297\n",
            "Epoch 28/100\n",
            "20/20 [==============================] - 0s 1ms/step - loss: 33.6941\n",
            "Epoch 29/100\n",
            "20/20 [==============================] - 0s 1ms/step - loss: 33.0916\n",
            "Epoch 30/100\n",
            "20/20 [==============================] - 0s 1ms/step - loss: 32.7709\n",
            "Epoch 31/100\n",
            "20/20 [==============================] - 0s 1ms/step - loss: 32.6971\n",
            "Epoch 32/100\n",
            "20/20 [==============================] - 0s 1ms/step - loss: 32.6540\n",
            "Epoch 33/100\n",
            "20/20 [==============================] - 0s 1ms/step - loss: 32.7277\n",
            "Epoch 34/100\n",
            "20/20 [==============================] - 0s 1ms/step - loss: 32.5132\n",
            "Epoch 35/100\n",
            "20/20 [==============================] - 0s 1ms/step - loss: 32.2097\n",
            "Epoch 36/100\n",
            "20/20 [==============================] - 0s 1ms/step - loss: 32.4307\n",
            "Epoch 37/100\n",
            "20/20 [==============================] - 0s 1ms/step - loss: 33.3682\n",
            "Epoch 38/100\n",
            "20/20 [==============================] - 0s 1ms/step - loss: 33.5846\n",
            "Epoch 39/100\n",
            "20/20 [==============================] - 0s 1ms/step - loss: 32.4034\n",
            "Epoch 40/100\n",
            "20/20 [==============================] - 0s 1ms/step - loss: 32.3372\n",
            "Epoch 41/100\n",
            "20/20 [==============================] - 0s 1ms/step - loss: 32.0271\n",
            "Epoch 42/100\n",
            "20/20 [==============================] - 0s 1ms/step - loss: 31.6861\n",
            "Epoch 43/100\n",
            "20/20 [==============================] - 0s 1ms/step - loss: 30.9666\n",
            "Epoch 44/100\n",
            "20/20 [==============================] - 0s 1ms/step - loss: 31.3875\n",
            "Epoch 45/100\n",
            "20/20 [==============================] - 0s 1ms/step - loss: 30.9901\n",
            "Epoch 46/100\n",
            "20/20 [==============================] - 0s 1ms/step - loss: 30.9112\n",
            "Epoch 47/100\n",
            "20/20 [==============================] - 0s 1ms/step - loss: 32.2508\n",
            "Epoch 48/100\n",
            "20/20 [==============================] - 0s 1ms/step - loss: 30.9250\n",
            "Epoch 49/100\n",
            "20/20 [==============================] - 0s 1ms/step - loss: 30.7641\n",
            "Epoch 50/100\n",
            "20/20 [==============================] - 0s 1ms/step - loss: 31.0831\n",
            "Epoch 51/100\n",
            "20/20 [==============================] - 0s 1ms/step - loss: 30.6072\n",
            "Epoch 52/100\n",
            "20/20 [==============================] - 0s 1ms/step - loss: 31.6571\n",
            "Epoch 53/100\n",
            "20/20 [==============================] - 0s 1ms/step - loss: 30.5174\n",
            "Epoch 54/100\n",
            "20/20 [==============================] - 0s 1ms/step - loss: 30.5444\n",
            "Epoch 55/100\n",
            "20/20 [==============================] - 0s 1ms/step - loss: 30.1301\n",
            "Epoch 56/100\n",
            "20/20 [==============================] - 0s 1ms/step - loss: 29.6464\n",
            "Epoch 57/100\n",
            "20/20 [==============================] - 0s 1ms/step - loss: 29.2753\n",
            "Epoch 58/100\n",
            "20/20 [==============================] - 0s 1ms/step - loss: 30.5511\n",
            "Epoch 59/100\n",
            "20/20 [==============================] - 0s 1ms/step - loss: 30.6994\n",
            "Epoch 60/100\n",
            "20/20 [==============================] - 0s 1ms/step - loss: 31.9964\n",
            "Epoch 61/100\n",
            "20/20 [==============================] - 0s 1ms/step - loss: 29.3240\n",
            "Epoch 62/100\n",
            "20/20 [==============================] - 0s 1ms/step - loss: 29.7382\n",
            "Epoch 63/100\n",
            "20/20 [==============================] - 0s 1ms/step - loss: 29.3066\n",
            "Epoch 64/100\n",
            "20/20 [==============================] - 0s 1ms/step - loss: 28.7026\n",
            "Epoch 65/100\n",
            "20/20 [==============================] - 0s 1ms/step - loss: 29.1500\n",
            "Epoch 66/100\n",
            "20/20 [==============================] - 0s 1ms/step - loss: 28.4312\n",
            "Epoch 67/100\n",
            "20/20 [==============================] - 0s 1ms/step - loss: 28.8102\n",
            "Epoch 68/100\n",
            "20/20 [==============================] - 0s 1ms/step - loss: 28.1614\n",
            "Epoch 69/100\n",
            "20/20 [==============================] - 0s 1ms/step - loss: 28.1117\n",
            "Epoch 70/100\n",
            "20/20 [==============================] - 0s 1ms/step - loss: 28.4802\n",
            "Epoch 71/100\n",
            "20/20 [==============================] - 0s 1ms/step - loss: 28.1459\n",
            "Epoch 72/100\n",
            "20/20 [==============================] - 0s 1ms/step - loss: 28.6059\n",
            "Epoch 73/100\n",
            "20/20 [==============================] - 0s 1ms/step - loss: 28.2942\n",
            "Epoch 74/100\n",
            "20/20 [==============================] - 0s 1ms/step - loss: 28.8594\n",
            "Epoch 75/100\n",
            "20/20 [==============================] - 0s 1ms/step - loss: 27.6979\n",
            "Epoch 76/100\n",
            "20/20 [==============================] - 0s 1ms/step - loss: 27.5767\n",
            "Epoch 77/100\n",
            "20/20 [==============================] - 0s 1ms/step - loss: 27.1542\n",
            "Epoch 78/100\n",
            "20/20 [==============================] - 0s 1ms/step - loss: 27.1529\n",
            "Epoch 79/100\n",
            "20/20 [==============================] - 0s 1ms/step - loss: 27.2514\n",
            "Epoch 80/100\n",
            "20/20 [==============================] - 0s 1ms/step - loss: 27.3559\n",
            "Epoch 81/100\n",
            "20/20 [==============================] - 0s 1ms/step - loss: 27.1048\n",
            "Epoch 82/100\n",
            "20/20 [==============================] - 0s 1ms/step - loss: 27.5448\n",
            "Epoch 83/100\n",
            "20/20 [==============================] - 0s 1ms/step - loss: 26.3254\n",
            "Epoch 84/100\n",
            "20/20 [==============================] - 0s 1ms/step - loss: 26.3640\n",
            "Epoch 85/100\n",
            "20/20 [==============================] - 0s 1ms/step - loss: 26.8975\n",
            "Epoch 86/100\n",
            "20/20 [==============================] - 0s 1ms/step - loss: 26.3902\n",
            "Epoch 87/100\n",
            "20/20 [==============================] - 0s 1ms/step - loss: 25.8306\n",
            "Epoch 88/100\n",
            "20/20 [==============================] - 0s 1ms/step - loss: 26.2885\n",
            "Epoch 89/100\n",
            "20/20 [==============================] - 0s 1ms/step - loss: 25.8227\n",
            "Epoch 90/100\n",
            "20/20 [==============================] - 0s 1ms/step - loss: 25.4391\n",
            "Epoch 91/100\n",
            "20/20 [==============================] - 0s 1ms/step - loss: 25.3250\n",
            "Epoch 92/100\n",
            "20/20 [==============================] - 0s 1ms/step - loss: 25.5379\n",
            "Epoch 93/100\n",
            "20/20 [==============================] - 0s 1ms/step - loss: 25.0989\n",
            "Epoch 94/100\n",
            "20/20 [==============================] - 0s 1ms/step - loss: 24.9143\n",
            "Epoch 95/100\n",
            "20/20 [==============================] - 0s 1ms/step - loss: 25.8466\n",
            "Epoch 96/100\n",
            "20/20 [==============================] - 0s 1ms/step - loss: 25.1279\n",
            "Epoch 97/100\n",
            "20/20 [==============================] - 0s 1ms/step - loss: 24.8212\n",
            "Epoch 98/100\n",
            "20/20 [==============================] - 0s 1ms/step - loss: 24.3858\n",
            "Epoch 99/100\n",
            "20/20 [==============================] - 0s 1ms/step - loss: 24.4872\n",
            "Epoch 100/100\n",
            "20/20 [==============================] - 0s 1ms/step - loss: 24.2138\n"
          ],
          "name": "stdout"
        },
        {
          "output_type": "execute_result",
          "data": {
            "text/plain": [
              "<tensorflow.python.keras.callbacks.History at 0x7f3f6ca06128>"
            ]
          },
          "metadata": {
            "tags": []
          },
          "execution_count": 11
        }
      ]
    },
    {
      "cell_type": "markdown",
      "metadata": {
        "id": "0H0zKKNEBLD5",
        "colab_type": "text"
      },
      "source": [
        "### Predicting the results of the Test set"
      ]
    },
    {
      "cell_type": "code",
      "metadata": {
        "id": "IA0yApEmBG1X",
        "colab_type": "code",
        "outputId": "98b9d946-7b76-4103-d41f-1f624512aa41",
        "colab": {
          "base_uri": "https://localhost:8080/",
          "height": 1000
        }
      },
      "source": [
        "y_pred = ann.predict(X_test)\n",
        "np.set_printoptions(precision=2)\n",
        "print(np.concatenate((y_pred.reshape(len(y_pred),2), y_test.reshape(len(y_test),2)),1))"
      ],
      "execution_count": 13,
      "outputs": [
        {
          "output_type": "stream",
          "text": [
            "[[15.96 17.49 15.18 17.63]\n",
            " [ 7.04 10.75 10.32 13.57]\n",
            " [28.82 30.37 37.26 34.62]\n",
            " [25.5  27.38 16.95 21.16]\n",
            " [27.38 29.54 32.26 33.34]\n",
            " [29.43 30.81 27.9  34.2 ]\n",
            " [27.87 29.98 28.18 30.18]\n",
            " [25.83 28.67 28.95 30.34]\n",
            " [23.94 27.42 29.07 29.82]\n",
            " [26.28 29.26 23.8  24.61]\n",
            " [ 9.52 11.72  6.4  11.67]\n",
            " [28.94 30.43 42.5  38.35]\n",
            " [16.66 18.22 11.22 14.65]\n",
            " [28.99 30.79 43.1  39.41]\n",
            " [29.91 32.31 41.96 37.7 ]\n",
            " [23.9  27.57 26.33 31.06]\n",
            " [10.5  13.38 10.7  13.87]\n",
            " [29.12 30.31 28.09 34.33]\n",
            " [22.51 22.05 14.65 15.38]\n",
            " [ 9.76 12.8  12.29 15.4 ]\n",
            " [12.98 15.29 12.46 14.38]\n",
            " [27.69 30.05 32.71 33.13]\n",
            " [ 9.73 12.95 10.77 14.14]\n",
            " [28.64 30.44 38.57 43.86]\n",
            " [ 6.62  9.73  6.04 11.17]\n",
            " [ 9.85 13.01 14.66 17.37]\n",
            " [22.42 21.84 13.   14.47]\n",
            " [ 7.62 12.4  14.41 16.69]\n",
            " [ 9.89 12.36 10.75 14.27]\n",
            " [29.57 31.96 39.89 37.54]\n",
            " [22.21 22.06 12.74 13.97]\n",
            " [16.13 17.42 12.74 16.14]\n",
            " [29.04 31.16 41.26 46.44]\n",
            " [15.82 16.91 12.77 16.22]\n",
            " [27.92 30.35 28.56 29.78]\n",
            " [40.63 39.01 35.99 36.07]\n",
            " [ 7.   11.39 13.97 16.08]\n",
            " [41.25 40.03 35.69 36.93]\n",
            " [21.67 20.74 17.14 17.2 ]\n",
            " [17.45 17.25 10.85 16.78]\n",
            " [15.79 17.06 11.6  13.7 ]\n",
            " [29.16 30.72 39.97 36.77]\n",
            " [12.96 14.78 14.42 17.2 ]\n",
            " [26.83 29.39 25.17 26.41]\n",
            " [22.09 25.12 19.5  27.3 ]\n",
            " [27.83 30.13 24.4  26.02]\n",
            " [11.12 14.39 13.69 13.89]\n",
            " [13.49 15.58 12.12 15.17]\n",
            " [29.79 31.69 28.86 32.83]\n",
            " [24.33 28.14 32.75 31.  ]\n",
            " [27.95 30.19 32.24 33.94]\n",
            " [21.54 20.68 12.97 14.27]\n",
            " [41.63 39.74 32.31 34.05]\n",
            " [16.32 18.36 14.96 17.64]\n",
            " [40.94 39.52 36.95 37.2 ]\n",
            " [ 6.99 10.38 10.39 13.7 ]\n",
            " [26.85 28.47 15.55 21.33]\n",
            " [26.21 28.38 26.19 31.39]\n",
            " [30.04 31.88 40.12 37.26]\n",
            " [13.63 16.16 14.53 16.9 ]\n",
            " [16.22 17.63 14.72 18.1 ]\n",
            " [ 9.51 12.65 12.33 14.91]\n",
            " [28.26 30.7  32.23 33.86]\n",
            " [ 7.97 12.27 10.34 13.72]\n",
            " [ 9.46 12.29 12.65 15.85]\n",
            " [ 6.92 11.18 11.8  14.49]\n",
            " [29.42 30.87 38.98 45.97]\n",
            " [13.25 15.95 11.21 14.55]\n",
            " [24.21 28.08 25.36 32.04]\n",
            " [29.73 31.37 39.83 36.87]\n",
            " [27.74 30.41 32.82 32.78]\n",
            " [10.55 13.74 10.53 13.79]\n",
            " [26.85 29.91 23.89 24.77]\n",
            " [21.72 21.11 17.26 16.86]\n",
            " [19.52 19.85 15.16 19.48]\n",
            " [26.52 28.89 24.94 29.88]\n",
            " [28.05 30.92 32.85 32.95]\n",
            " [30.34 32.39 38.65 43.73]\n",
            " [28.36 31.43 32.84 32.88]\n",
            " [ 9.28 12.36 14.51 17.1 ]\n",
            " [29.6  31.24 35.69 40.66]\n",
            " [29.48 31.18 29.62 30.08]\n",
            " [15.17 16.05 11.69 13.72]\n",
            " [22.56 22.41 14.16 14.61]\n",
            " [27.53 30.62 29.92 32.54]\n",
            " [26.26 28.74 25.38 26.72]\n",
            " [28.71 31.29 24.03 25.88]\n",
            " [28.4  29.36 29.63 30.93]\n",
            " [21.65 21.41 12.85 14.37]\n",
            " [21.97 21.25 17.15 16.99]\n",
            " [ 7.21 11.17 14.18 16.99]\n",
            " [24.47 28.22 26.45 31.28]\n",
            " [ 6.56 10.31 12.5  15.5 ]\n",
            " [27.47 29.26 24.63 26.44]\n",
            " [40.1  38.21 40.78 39.55]\n",
            " [20.89 20.31 15.09 17.2 ]\n",
            " [26.66 29.46 29.47 29.77]\n",
            " [12.5  14.86 14.75 16.44]\n",
            " [15.32 15.69  7.1  12.14]\n",
            " [41.15 39.3  35.64 37.28]\n",
            " [29.38 31.02 36.97 35.1 ]\n",
            " [25.97 28.75 22.93 28.68]\n",
            " [22.61 25.4  19.34 23.49]\n",
            " [39.93 37.79 32.96 33.87]\n",
            " [ 8.22 12.41 10.39 13.5 ]\n",
            " [24.25 27.93 29.88 28.31]\n",
            " [29.66 32.17 42.11 38.56]\n",
            " [16.7  18.07 12.92 16.14]\n",
            " [ 9.2  12.15 12.57 15.42]\n",
            " [27.1  28.61 15.55 21.33]\n",
            " [19.22 20.35 17.69 20.82]\n",
            " [41.37 39.59 33.09 33.89]\n",
            " [23.46 26.98 32.13 32.28]\n",
            " [19.21 19.34 15.36 19.29]\n",
            " [10.59 13.59 12.19 14.94]\n",
            " [19.83 20.35 15.36 19.29]\n",
            " [16.92 18.36 11.34 14.87]\n",
            " [30.   32.03 36.77 43.14]\n",
            " [23.95 27.94 26.45 27.33]\n",
            " [41.33 40.24 38.82 39.37]\n",
            " [30.01 32.47 35.01 33.14]\n",
            " [ 7.12 10.96 12.16 15.18]\n",
            " [ 9.71 12.43 12.57 15.44]\n",
            " [29.34 31.09 36.06 34.94]\n",
            " [10.07 13.3  12.28 14.74]\n",
            " [41.54 40.02 40.6  39.85]\n",
            " [ 7.83 12.18 14.32 16.9 ]\n",
            " [28.17 30.49 28.17 30.1 ]\n",
            " [ 7.23 11.69 12.32 14.92]\n",
            " [23.87 28.22 32.31 29.69]\n",
            " [40.7  38.21 32.21 33.67]\n",
            " [27.21 29.12 24.63 26.37]\n",
            " [29.69 31.53 35.45 41.86]\n",
            " [ 7.18 11.32 12.03 13.79]\n",
            " [42.02 40.45 36.7  36.15]\n",
            " [14.8  15.4   7.1  12.23]\n",
            " [27.22 30.11 29.52 28.43]\n",
            " [26.95 28.98 24.58 26.47]\n",
            " [41.42 39.96 33.21 34.35]\n",
            " [10.16 13.52 14.03 15.47]\n",
            " [18.68 18.54 17.37 21.08]\n",
            " [17.99 18.32 19.52 22.72]\n",
            " [29.27 31.4  29.06 29.34]\n",
            " [ 9.11 11.94 10.71 13.8 ]\n",
            " [28.25 29.72 35.56 41.68]\n",
            " [22.28 21.75 16.74 16.  ]\n",
            " [28.35 29.88 29.03 32.92]\n",
            " [40.53 38.28 36.91 37.45]\n",
            " [12.72 15.15 12.34 14.92]\n",
            " [21.73 21.62 14.33 15.41]\n",
            " [28.79 31.5  28.15 30.  ]\n",
            " [16.36 17.71 11.33 15.  ]\n",
            " [22.82 22.56 13.86 14.75]\n",
            " [21.11 20.61 14.34 15.32]]\n"
          ],
          "name": "stdout"
        }
      ]
    }
  ]
}