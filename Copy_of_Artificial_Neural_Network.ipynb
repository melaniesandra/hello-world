{
  "nbformat": 4,
  "nbformat_minor": 0,
  "metadata": {
    "colab": {
      "name": "Copy of Artificial Neural Network",
      "provenance": [],
      "collapsed_sections": [],
      "toc_visible": true,
      "include_colab_link": true
    },
    "kernelspec": {
      "name": "python3",
      "display_name": "Python 3"
    }
  },
  "cells": [
    {
      "cell_type": "markdown",
      "metadata": {
        "id": "view-in-github",
        "colab_type": "text"
      },
      "source": [
        "<a href=\"https://colab.research.google.com/github/melaniesandra/melaniesandra.github.io/blob/master/Copy_of_Artificial_Neural_Network.ipynb\" target=\"_parent\"><img src=\"https://colab.research.google.com/assets/colab-badge.svg\" alt=\"Open In Colab\"/></a>"
      ]
    },
    {
      "cell_type": "markdown",
      "metadata": {
        "id": "3cbb7fRy-eyr",
        "colab_type": "text"
      },
      "source": [
        "# Artificial Neural Network"
      ]
    },
    {
      "cell_type": "markdown",
      "metadata": {
        "id": "8sNDnxE2-pwE",
        "colab_type": "text"
      },
      "source": [
        "### Importing the libraries"
      ]
    },
    {
      "cell_type": "code",
      "metadata": {
        "id": "lxChR1Rk-umf",
        "colab_type": "code",
        "colab": {}
      },
      "source": [
        "import numpy as np\n",
        "import pandas as pd\n",
        "import tensorflow as tf"
      ],
      "execution_count": 0,
      "outputs": []
    },
    {
      "cell_type": "code",
      "metadata": {
        "id": "uBTqR3nacj0e",
        "colab_type": "code",
        "outputId": "98952929-a540-468b-aab6-ad3e31d0c96c",
        "colab": {
          "base_uri": "https://localhost:8080/",
          "height": 34
        }
      },
      "source": [
        "tf.__version__"
      ],
      "execution_count": 15,
      "outputs": [
        {
          "output_type": "execute_result",
          "data": {
            "text/plain": [
              "'2.2.0'"
            ]
          },
          "metadata": {
            "tags": []
          },
          "execution_count": 15
        }
      ]
    },
    {
      "cell_type": "markdown",
      "metadata": {
        "id": "AG3FQEch-yuA",
        "colab_type": "text"
      },
      "source": [
        "## Part 1 - Data Preprocessing"
      ]
    },
    {
      "cell_type": "markdown",
      "metadata": {
        "id": "-4zq8Mza_D9O",
        "colab_type": "text"
      },
      "source": [
        "### Importing the dataset"
      ]
    },
    {
      "cell_type": "code",
      "metadata": {
        "id": "B9CV13Co_HHM",
        "colab_type": "code",
        "colab": {}
      },
      "source": [
        "dataset = pd.read_excel('energy_analysis.xlsx')\n",
        "X = dataset.iloc[:, :-2].values\n",
        "y = dataset.iloc[:, -2:].values"
      ],
      "execution_count": 0,
      "outputs": []
    },
    {
      "cell_type": "markdown",
      "metadata": {
        "id": "KHYfoXyyaYpY",
        "colab_type": "text"
      },
      "source": [
        "### turning numerical values into different columns "
      ]
    },
    {
      "cell_type": "code",
      "metadata": {
        "id": "pYUIhFm6asuW",
        "colab_type": "code",
        "colab": {}
      },
      "source": [
        "from sklearn.preprocessing import PolynomialFeatures, LabelEncoder, OneHotEncoder, StandardScaler\n",
        "from sklearn.compose import ColumnTransformer\n",
        "ct = ColumnTransformer(transformers = [('encoder', OneHotEncoder(), [5])], remainder = 'passthrough')\n",
        "X = np.array(ct.fit_transform(X))"
      ],
      "execution_count": 0,
      "outputs": []
    },
    {
      "cell_type": "markdown",
      "metadata": {
        "id": "VC6omXel_Up0",
        "colab_type": "text"
      },
      "source": [
        "### Splitting the dataset into the Training set and Test set"
      ]
    },
    {
      "cell_type": "code",
      "metadata": {
        "id": "L5edeb2r_agx",
        "colab_type": "code",
        "colab": {}
      },
      "source": [
        "from sklearn.model_selection import train_test_split\n",
        "X_train, X_test, y_train, y_test = train_test_split(X, y, test_size = 0.2, random_state = 0)"
      ],
      "execution_count": 0,
      "outputs": []
    },
    {
      "cell_type": "markdown",
      "metadata": {
        "id": "_mSLlAT9_eyI",
        "colab_type": "text"
      },
      "source": [
        "## Part 2 - Building the ANN"
      ]
    },
    {
      "cell_type": "markdown",
      "metadata": {
        "id": "CsBULd_f_wLY",
        "colab_type": "text"
      },
      "source": [
        "### Initializing the ANN"
      ]
    },
    {
      "cell_type": "code",
      "metadata": {
        "id": "J6Hd97Ls__Nz",
        "colab_type": "code",
        "colab": {}
      },
      "source": [
        "ann = tf.keras.models.Sequential()"
      ],
      "execution_count": 0,
      "outputs": []
    },
    {
      "cell_type": "markdown",
      "metadata": {
        "id": "iitAFJS_ABUn",
        "colab_type": "text"
      },
      "source": [
        "### Adding the input layer and the first hidden layer"
      ]
    },
    {
      "cell_type": "code",
      "metadata": {
        "id": "ksO_Vv40AHix",
        "colab_type": "code",
        "colab": {}
      },
      "source": [
        "ann.add(tf.keras.layers.Dense(units=6, activation='relu'))"
      ],
      "execution_count": 0,
      "outputs": []
    },
    {
      "cell_type": "markdown",
      "metadata": {
        "id": "-lb4kK_wAKbs",
        "colab_type": "text"
      },
      "source": [
        "### Adding the second hidden layer"
      ]
    },
    {
      "cell_type": "code",
      "metadata": {
        "id": "c2357OqEAQOQ",
        "colab_type": "code",
        "colab": {}
      },
      "source": [
        "ann.add(tf.keras.layers.Dense(units=6, activation='relu'))"
      ],
      "execution_count": 0,
      "outputs": []
    },
    {
      "cell_type": "markdown",
      "metadata": {
        "id": "jwMOmKb3AdBY",
        "colab_type": "text"
      },
      "source": [
        "### Adding the output layer"
      ]
    },
    {
      "cell_type": "code",
      "metadata": {
        "id": "YFATpzsUAkLL",
        "colab_type": "code",
        "colab": {}
      },
      "source": [
        "ann.add(tf.keras.layers.Dense(units=2))"
      ],
      "execution_count": 0,
      "outputs": []
    },
    {
      "cell_type": "markdown",
      "metadata": {
        "id": "fq7e4fF6A1yy",
        "colab_type": "text"
      },
      "source": [
        "## Part 3 - Training the ANN"
      ]
    },
    {
      "cell_type": "markdown",
      "metadata": {
        "id": "qDeylAs2An25",
        "colab_type": "text"
      },
      "source": [
        "### Compiling the ANN"
      ]
    },
    {
      "cell_type": "code",
      "metadata": {
        "id": "pesgbWlCAtB4",
        "colab_type": "code",
        "colab": {}
      },
      "source": [
        "ann.compile(optimizer = 'adam', loss = 'mean_squared_error')"
      ],
      "execution_count": 0,
      "outputs": []
    },
    {
      "cell_type": "markdown",
      "metadata": {
        "id": "YjVuiybYOo7r",
        "colab_type": "text"
      },
      "source": [
        "### Training the ANN model on the Training set"
      ]
    },
    {
      "cell_type": "code",
      "metadata": {
        "id": "c_vV-tiiA5zn",
        "colab_type": "code",
        "outputId": "ac54d1f6-b04c-41b2-d800-e8dcdf9cfbf3",
        "colab": {
          "base_uri": "https://localhost:8080/",
          "height": 1000
        }
      },
      "source": [
        "ann.fit(X_train, y_train, batch_size = 32, epochs = 100)"
      ],
      "execution_count": 28,
      "outputs": [
        {
          "output_type": "stream",
          "text": [
            "Epoch 1/100\n",
            "20/20 [==============================] - 0s 1ms/step - loss: 11164.6953\n",
            "Epoch 2/100\n",
            "20/20 [==============================] - 0s 1ms/step - loss: 6753.7480\n",
            "Epoch 3/100\n",
            "20/20 [==============================] - 0s 1ms/step - loss: 4289.7139\n",
            "Epoch 4/100\n",
            "20/20 [==============================] - 0s 1ms/step - loss: 2830.6851\n",
            "Epoch 5/100\n",
            "20/20 [==============================] - 0s 1ms/step - loss: 1927.0472\n",
            "Epoch 6/100\n",
            "20/20 [==============================] - 0s 1ms/step - loss: 1332.7795\n",
            "Epoch 7/100\n",
            "20/20 [==============================] - 0s 1ms/step - loss: 931.2778\n",
            "Epoch 8/100\n",
            "20/20 [==============================] - 0s 1ms/step - loss: 651.9728\n",
            "Epoch 9/100\n",
            "20/20 [==============================] - 0s 1ms/step - loss: 457.3958\n",
            "Epoch 10/100\n",
            "20/20 [==============================] - 0s 1ms/step - loss: 323.0564\n",
            "Epoch 11/100\n",
            "20/20 [==============================] - 0s 1ms/step - loss: 233.5463\n",
            "Epoch 12/100\n",
            "20/20 [==============================] - 0s 1ms/step - loss: 174.5215\n",
            "Epoch 13/100\n",
            "20/20 [==============================] - 0s 1ms/step - loss: 138.1277\n",
            "Epoch 14/100\n",
            "20/20 [==============================] - 0s 2ms/step - loss: 116.1801\n",
            "Epoch 15/100\n",
            "20/20 [==============================] - 0s 1ms/step - loss: 102.8828\n",
            "Epoch 16/100\n",
            "20/20 [==============================] - 0s 1ms/step - loss: 95.0341\n",
            "Epoch 17/100\n",
            "20/20 [==============================] - 0s 1ms/step - loss: 89.8022\n",
            "Epoch 18/100\n",
            "20/20 [==============================] - 0s 1ms/step - loss: 85.8588\n",
            "Epoch 19/100\n",
            "20/20 [==============================] - 0s 1ms/step - loss: 82.6311\n",
            "Epoch 20/100\n",
            "20/20 [==============================] - 0s 1ms/step - loss: 79.9879\n",
            "Epoch 21/100\n",
            "20/20 [==============================] - 0s 1ms/step - loss: 77.8406\n",
            "Epoch 22/100\n",
            "20/20 [==============================] - 0s 1ms/step - loss: 75.9191\n",
            "Epoch 23/100\n",
            "20/20 [==============================] - 0s 1ms/step - loss: 74.2338\n",
            "Epoch 24/100\n",
            "20/20 [==============================] - 0s 1ms/step - loss: 72.6761\n",
            "Epoch 25/100\n",
            "20/20 [==============================] - 0s 1ms/step - loss: 71.0213\n",
            "Epoch 26/100\n",
            "20/20 [==============================] - 0s 1ms/step - loss: 69.6569\n",
            "Epoch 27/100\n",
            "20/20 [==============================] - 0s 1ms/step - loss: 68.1036\n",
            "Epoch 28/100\n",
            "20/20 [==============================] - 0s 1ms/step - loss: 66.8565\n",
            "Epoch 29/100\n",
            "20/20 [==============================] - 0s 1ms/step - loss: 65.5946\n",
            "Epoch 30/100\n",
            "20/20 [==============================] - 0s 1ms/step - loss: 64.3237\n",
            "Epoch 31/100\n",
            "20/20 [==============================] - 0s 1ms/step - loss: 63.5019\n",
            "Epoch 32/100\n",
            "20/20 [==============================] - 0s 1ms/step - loss: 62.4447\n",
            "Epoch 33/100\n",
            "20/20 [==============================] - 0s 1ms/step - loss: 61.3779\n",
            "Epoch 34/100\n",
            "20/20 [==============================] - 0s 1ms/step - loss: 60.0934\n",
            "Epoch 35/100\n",
            "20/20 [==============================] - 0s 1ms/step - loss: 59.1510\n",
            "Epoch 36/100\n",
            "20/20 [==============================] - 0s 1ms/step - loss: 58.2708\n",
            "Epoch 37/100\n",
            "20/20 [==============================] - 0s 1ms/step - loss: 57.2655\n",
            "Epoch 38/100\n",
            "20/20 [==============================] - 0s 1ms/step - loss: 56.2873\n",
            "Epoch 39/100\n",
            "20/20 [==============================] - 0s 1ms/step - loss: 55.2374\n",
            "Epoch 40/100\n",
            "20/20 [==============================] - 0s 1ms/step - loss: 54.3238\n",
            "Epoch 41/100\n",
            "20/20 [==============================] - 0s 1ms/step - loss: 53.4512\n",
            "Epoch 42/100\n",
            "20/20 [==============================] - 0s 1ms/step - loss: 52.6798\n",
            "Epoch 43/100\n",
            "20/20 [==============================] - 0s 1ms/step - loss: 51.9820\n",
            "Epoch 44/100\n",
            "20/20 [==============================] - 0s 1ms/step - loss: 51.3489\n",
            "Epoch 45/100\n",
            "20/20 [==============================] - 0s 1ms/step - loss: 50.8449\n",
            "Epoch 46/100\n",
            "20/20 [==============================] - 0s 1ms/step - loss: 49.8592\n",
            "Epoch 47/100\n",
            "20/20 [==============================] - 0s 1ms/step - loss: 49.2980\n",
            "Epoch 48/100\n",
            "20/20 [==============================] - 0s 1ms/step - loss: 48.6397\n",
            "Epoch 49/100\n",
            "20/20 [==============================] - 0s 1ms/step - loss: 48.1026\n",
            "Epoch 50/100\n",
            "20/20 [==============================] - 0s 1ms/step - loss: 47.5281\n",
            "Epoch 51/100\n",
            "20/20 [==============================] - 0s 1ms/step - loss: 46.6999\n",
            "Epoch 52/100\n",
            "20/20 [==============================] - 0s 1ms/step - loss: 45.9883\n",
            "Epoch 53/100\n",
            "20/20 [==============================] - 0s 1ms/step - loss: 45.5090\n",
            "Epoch 54/100\n",
            "20/20 [==============================] - 0s 1ms/step - loss: 44.9246\n",
            "Epoch 55/100\n",
            "20/20 [==============================] - 0s 1ms/step - loss: 44.3516\n",
            "Epoch 56/100\n",
            "20/20 [==============================] - 0s 1ms/step - loss: 43.7477\n",
            "Epoch 57/100\n",
            "20/20 [==============================] - 0s 1ms/step - loss: 43.1966\n",
            "Epoch 58/100\n",
            "20/20 [==============================] - 0s 1ms/step - loss: 42.7903\n",
            "Epoch 59/100\n",
            "20/20 [==============================] - 0s 1ms/step - loss: 42.1709\n",
            "Epoch 60/100\n",
            "20/20 [==============================] - 0s 1ms/step - loss: 41.5808\n",
            "Epoch 61/100\n",
            "20/20 [==============================] - 0s 1ms/step - loss: 41.2916\n",
            "Epoch 62/100\n",
            "20/20 [==============================] - 0s 1ms/step - loss: 40.7367\n",
            "Epoch 63/100\n",
            "20/20 [==============================] - 0s 1ms/step - loss: 40.3383\n",
            "Epoch 64/100\n",
            "20/20 [==============================] - 0s 1ms/step - loss: 39.8312\n",
            "Epoch 65/100\n",
            "20/20 [==============================] - 0s 1ms/step - loss: 39.3447\n",
            "Epoch 66/100\n",
            "20/20 [==============================] - 0s 1ms/step - loss: 39.2657\n",
            "Epoch 67/100\n",
            "20/20 [==============================] - 0s 1ms/step - loss: 38.5624\n",
            "Epoch 68/100\n",
            "20/20 [==============================] - 0s 1ms/step - loss: 38.2788\n",
            "Epoch 69/100\n",
            "20/20 [==============================] - 0s 1ms/step - loss: 37.8174\n",
            "Epoch 70/100\n",
            "20/20 [==============================] - 0s 1ms/step - loss: 37.4760\n",
            "Epoch 71/100\n",
            "20/20 [==============================] - 0s 1ms/step - loss: 36.9818\n",
            "Epoch 72/100\n",
            "20/20 [==============================] - 0s 1ms/step - loss: 36.7983\n",
            "Epoch 73/100\n",
            "20/20 [==============================] - 0s 1ms/step - loss: 36.7119\n",
            "Epoch 74/100\n",
            "20/20 [==============================] - 0s 1ms/step - loss: 36.0330\n",
            "Epoch 75/100\n",
            "20/20 [==============================] - 0s 1ms/step - loss: 35.8390\n",
            "Epoch 76/100\n",
            "20/20 [==============================] - 0s 1ms/step - loss: 35.4062\n",
            "Epoch 77/100\n",
            "20/20 [==============================] - 0s 1ms/step - loss: 35.2741\n",
            "Epoch 78/100\n",
            "20/20 [==============================] - 0s 1ms/step - loss: 34.6745\n",
            "Epoch 79/100\n",
            "20/20 [==============================] - 0s 1ms/step - loss: 34.3600\n",
            "Epoch 80/100\n",
            "20/20 [==============================] - 0s 1ms/step - loss: 34.1949\n",
            "Epoch 81/100\n",
            "20/20 [==============================] - 0s 1ms/step - loss: 34.0517\n",
            "Epoch 82/100\n",
            "20/20 [==============================] - 0s 1ms/step - loss: 33.5116\n",
            "Epoch 83/100\n",
            "20/20 [==============================] - 0s 2ms/step - loss: 33.3218\n",
            "Epoch 84/100\n",
            "20/20 [==============================] - 0s 1ms/step - loss: 33.0441\n",
            "Epoch 85/100\n",
            "20/20 [==============================] - 0s 1ms/step - loss: 32.7469\n",
            "Epoch 86/100\n",
            "20/20 [==============================] - 0s 1ms/step - loss: 32.5691\n",
            "Epoch 87/100\n",
            "20/20 [==============================] - 0s 1ms/step - loss: 32.2729\n",
            "Epoch 88/100\n",
            "20/20 [==============================] - 0s 1ms/step - loss: 32.1730\n",
            "Epoch 89/100\n",
            "20/20 [==============================] - 0s 1ms/step - loss: 31.8126\n",
            "Epoch 90/100\n",
            "20/20 [==============================] - 0s 1ms/step - loss: 31.5601\n",
            "Epoch 91/100\n",
            "20/20 [==============================] - 0s 1ms/step - loss: 31.6152\n",
            "Epoch 92/100\n",
            "20/20 [==============================] - 0s 1ms/step - loss: 31.3137\n",
            "Epoch 93/100\n",
            "20/20 [==============================] - 0s 1ms/step - loss: 30.9422\n",
            "Epoch 94/100\n",
            "20/20 [==============================] - 0s 1ms/step - loss: 30.8290\n",
            "Epoch 95/100\n",
            "20/20 [==============================] - 0s 1ms/step - loss: 30.6079\n",
            "Epoch 96/100\n",
            "20/20 [==============================] - 0s 1ms/step - loss: 30.3669\n",
            "Epoch 97/100\n",
            "20/20 [==============================] - 0s 1ms/step - loss: 30.1998\n",
            "Epoch 98/100\n",
            "20/20 [==============================] - 0s 1ms/step - loss: 30.1030\n",
            "Epoch 99/100\n",
            "20/20 [==============================] - 0s 1ms/step - loss: 30.0291\n",
            "Epoch 100/100\n",
            "20/20 [==============================] - 0s 1ms/step - loss: 29.7560\n"
          ],
          "name": "stdout"
        },
        {
          "output_type": "execute_result",
          "data": {
            "text/plain": [
              "<tensorflow.python.keras.callbacks.History at 0x7f3f69b46128>"
            ]
          },
          "metadata": {
            "tags": []
          },
          "execution_count": 28
        }
      ]
    },
    {
      "cell_type": "markdown",
      "metadata": {
        "id": "0H0zKKNEBLD5",
        "colab_type": "text"
      },
      "source": [
        "### Predicting the results of the Test set"
      ]
    },
    {
      "cell_type": "code",
      "metadata": {
        "id": "IA0yApEmBG1X",
        "colab_type": "code",
        "outputId": "2bdef01c-dd8a-4a1b-94e3-3d034cd713c1",
        "colab": {
          "base_uri": "https://localhost:8080/",
          "height": 1000
        }
      },
      "source": [
        "y_pred = ann.predict(X_test)\n",
        "np.set_printoptions(precision=2)\n",
        "print(np.concatenate((y_pred.reshape(len(y_pred),2), y_test.reshape(len(y_test),2)),1))"
      ],
      "execution_count": 29,
      "outputs": [
        {
          "output_type": "stream",
          "text": [
            "[[15.02 17.08 15.18 17.63]\n",
            " [11.71 13.49 10.32 13.57]\n",
            " [28.91 30.95 37.26 34.62]\n",
            " [25.55 27.47 16.95 21.16]\n",
            " [27.07 28.79 32.26 33.34]\n",
            " [28.94 30.81 27.9  34.2 ]\n",
            " [27.14 28.86 28.18 30.18]\n",
            " [25.33 27.25 28.95 30.34]\n",
            " [22.24 24.03 29.07 29.82]\n",
            " [25.38 27.3  23.8  24.61]\n",
            " [12.14 13.99  6.4  11.67]\n",
            " [28.91 30.96 42.5  38.35]\n",
            " [15.11 17.18 11.22 14.65]\n",
            " [28.88 30.93 43.1  39.41]\n",
            " [28.92 30.97 41.96 37.7 ]\n",
            " [22.2  24.01 26.33 31.06]\n",
            " [12.22 14.08 10.7  13.87]\n",
            " [28.93 30.8  28.09 34.33]\n",
            " [21.92 24.23 14.65 15.38]\n",
            " [12.19 14.05 12.29 15.4 ]\n",
            " [12.73 14.68 12.46 14.38]\n",
            " [27.08 28.8  32.71 33.13]\n",
            " [12.23 14.1  10.77 14.14]\n",
            " [28.73 30.77 38.57 43.86]\n",
            " [11.63 13.39  6.04 11.17]\n",
            " [12.19 14.05 14.66 17.37]\n",
            " [21.93 24.24 13.   14.47]\n",
            " [11.77 13.56 14.41 16.69]\n",
            " [12.17 14.02 10.75 14.27]\n",
            " [28.76 30.82 39.89 37.54]\n",
            " [21.84 24.16 12.74 13.97]\n",
            " [15.08 17.14 12.74 16.14]\n",
            " [28.72 30.77 41.26 46.44]\n",
            " [15.07 17.12 12.77 16.22]\n",
            " [27.11 28.83 28.56 29.78]\n",
            " [38.43 44.85 35.99 36.07]\n",
            " [11.72 13.5  13.97 16.08]\n",
            " [38.63 44.87 35.69 36.93]\n",
            " [21.87 24.17 17.14 17.2 ]\n",
            " [18.24 20.41 10.85 16.78]\n",
            " [15.05 17.11 11.6  13.7 ]\n",
            " [28.94 30.99 39.97 36.77]\n",
            " [12.68 14.62 14.42 17.2 ]\n",
            " [25.62 27.55 25.17 26.41]\n",
            " [21.95 23.74 19.5  27.3 ]\n",
            " [27.12 28.84 24.4  26.02]\n",
            " [12.27 14.14 13.69 13.89]\n",
            " [12.73 14.68 12.12 15.17]\n",
            " [28.9  30.79 28.86 32.83]\n",
            " [22.23 24.04 32.75 31.  ]\n",
            " [27.12 28.85 32.24 33.94]\n",
            " [21.85 24.16 12.97 14.27]\n",
            " [38.4  45.17 32.31 34.05]\n",
            " [14.87 16.94 14.96 17.64]\n",
            " [38.53 44.86 36.95 37.2 ]\n",
            " [11.65 13.42 10.39 13.7 ]\n",
            " [27.1  28.81 15.55 21.33]\n",
            " [25.6  27.52 26.19 31.39]\n",
            " [29.02 31.07 40.12 37.26]\n",
            " [12.79 14.74 14.53 16.9 ]\n",
            " [15.06 17.13 14.72 18.1 ]\n",
            " [12.21 14.07 12.33 14.91]\n",
            " [27.14 28.86 32.23 33.86]\n",
            " [11.78 13.58 10.34 13.72]\n",
            " [12.17 14.02 12.65 15.85]\n",
            " [11.72 13.5  11.8  14.49]\n",
            " [29.   31.04 38.98 45.97]\n",
            " [12.8  14.75 11.21 14.55]\n",
            " [22.21 24.02 25.36 32.04]\n",
            " [29.01 31.06 39.83 36.87]\n",
            " [26.92 28.65 32.82 32.78]\n",
            " [12.27 14.15 10.53 13.79]\n",
            " [25.56 27.49 23.89 24.77]\n",
            " [21.82 24.13 17.26 16.86]\n",
            " [18.54 20.73 15.16 19.48]\n",
            " [25.61 27.53 24.94 29.88]\n",
            " [26.94 28.66 32.85 32.95]\n",
            " [29.03 31.09 38.65 43.73]\n",
            " [26.95 28.68 32.84 32.88]\n",
            " [12.18 14.04 14.51 17.1 ]\n",
            " [28.91 30.78 35.69 40.66]\n",
            " [28.89 30.77 29.62 30.08]\n",
            " [15.03 17.08 11.69 13.72]\n",
            " [21.87 24.19 14.16 14.61]\n",
            " [25.63 27.56 29.92 32.54]\n",
            " [25.55 27.48 25.38 26.72]\n",
            " [27.18 28.92 24.03 25.88]\n",
            " [28.94 30.98 29.63 30.93]\n",
            " [21.66 23.97 12.85 14.37]\n",
            " [21.88 24.19 17.15 16.99]\n",
            " [11.71 13.49 14.18 16.99]\n",
            " [22.27 24.08 26.45 31.28]\n",
            " [11.65 13.42 12.5  15.5 ]\n",
            " [27.14 28.86 24.63 26.44]\n",
            " [38.24 44.82 40.78 39.55]\n",
            " [21.6  23.9  15.09 17.2 ]\n",
            " [25.55 27.48 29.47 29.77]\n",
            " [12.72 14.66 14.75 16.44]\n",
            " [15.13 17.17  7.1  12.14]\n",
            " [38.45 45.08 35.64 37.28]\n",
            " [28.96 31.02 36.97 35.1 ]\n",
            " [25.37 27.29 22.93 28.68]\n",
            " [22.17 23.96 19.34 23.49]\n",
            " [38.24 44.84 32.96 33.87]\n",
            " [11.75 13.54 10.39 13.5 ]\n",
            " [22.25 24.05 29.88 28.31]\n",
            " [28.75 30.8  42.11 38.56]\n",
            " [15.15 17.21 12.92 16.14]\n",
            " [12.18 14.04 12.57 15.42]\n",
            " [27.14 28.85 15.55 21.33]\n",
            " [18.26 20.45 17.69 20.82]\n",
            " [38.54 45.1  33.09 33.89]\n",
            " [22.15 23.95 32.13 32.28]\n",
            " [18.53 20.72 15.36 19.29]\n",
            " [12.22 14.08 12.19 14.94]\n",
            " [18.56 20.75 15.36 19.29]\n",
            " [15.17 17.24 11.34 14.87]\n",
            " [28.98 31.05 36.77 43.14]\n",
            " [22.17 23.97 26.45 27.33]\n",
            " [38.63 44.85 38.82 39.37]\n",
            " [28.85 30.73 35.01 33.14]\n",
            " [11.71 13.49 12.16 15.18]\n",
            " [12.2  14.06 12.57 15.44]\n",
            " [28.85 30.73 36.06 34.94]\n",
            " [12.22 14.08 12.28 14.74]\n",
            " [38.55 45.07 40.6  39.85]\n",
            " [11.76 13.55 14.32 16.9 ]\n",
            " [27.15 28.88 28.17 30.1 ]\n",
            " [11.74 13.53 12.32 14.92]\n",
            " [21.97 23.78 32.31 29.69]\n",
            " [38.11 45.14 32.21 33.67]\n",
            " [27.1  28.81 24.63 26.37]\n",
            " [28.97 31.03 35.45 41.86]\n",
            " [11.7  13.48 12.03 13.79]\n",
            " [38.5  45.17 36.7  36.15]\n",
            " [15.02 17.07  7.1  12.23]\n",
            " [25.62 27.55 29.52 28.43]\n",
            " [26.93 28.64 24.58 26.47]\n",
            " [38.52 45.07 33.21 34.35]\n",
            " [12.22 14.08 14.03 15.47]\n",
            " [18.5  20.68 17.37 21.08]\n",
            " [18.21 20.39 19.52 22.72]\n",
            " [28.69 30.57 29.06 29.34]\n",
            " [12.18 14.04 10.71 13.8 ]\n",
            " [28.73 30.77 35.56 41.68]\n",
            " [21.89 24.2  16.74 16.  ]\n",
            " [28.66 30.52 29.03 32.92]\n",
            " [38.25 45.06 36.91 37.45]\n",
            " [12.74 14.69 12.34 14.92]\n",
            " [21.64 23.96 14.33 15.41]\n",
            " [27.17 28.91 28.15 30.  ]\n",
            " [15.1  17.17 11.33 15.  ]\n",
            " [21.93 24.25 13.86 14.75]\n",
            " [21.62 23.93 14.34 15.32]]\n"
          ],
          "name": "stdout"
        }
      ]
    }
  ]
}